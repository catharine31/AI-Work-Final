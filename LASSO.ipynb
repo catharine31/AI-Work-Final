{
  "nbformat": 4,
  "nbformat_minor": 0,
  "metadata": {
    "colab": {
      "name": "Untitled2.ipynb",
      "provenance": []
    },
    "kernelspec": {
      "name": "python3",
      "display_name": "Python 3"
    }
  },
  "cells": [
    {
      "cell_type": "code",
      "metadata": {
        "id": "TEYRu0YFM8oP",
        "colab_type": "code",
        "colab": {}
      },
      "source": [
        "import pandas as pd\n",
        "import numpy as np\n",
        "import csv\n",
        "from sklearn.linear_model import Lasso\n",
        "from sklearn.preprocessing import StandardScaler\n"
      ],
      "execution_count": 0,
      "outputs": []
    },
    {
      "cell_type": "code",
      "metadata": {
        "id": "1u6UzCbvNrml",
        "colab_type": "code",
        "colab": {
          "base_uri": "https://localhost:8080/",
          "height": 204
        },
        "outputId": "c96ef061-807a-497b-cac6-64bb610a4549"
      },
      "source": [
        "with open(r'Team_game_with_playerStd_train.csv', newline='') as csvfile:\n",
        "\n",
        "  # 讀取 CSV 檔案內容\n",
        "    rows = csv.reader(csvfile)\n",
        "\n",
        "    data = [ ] #特徵部分\n",
        "    target = [ ] #預測結果部分\n",
        "    for i , row in enumerate(rows):\n",
        "        if i == 0: #name, skip\n",
        "            continue\n",
        "        data.append ( row[6:27] + row[28:]) #前6是英文\n",
        "        target.append( row[27] ) #得分\n",
        "    target_ = np.array( target )\n",
        "    data_ = np.array( data )\n",
        "    print(data_.shape)\n",
        "    print(target_.shape)\n",
        "    lasso = Lasso(alpha=.3)\n",
        "    lasso.fit(data_ ,target_)\n",
        "    print(lasso.coef_) #為0代表對應不重要的feature\n"
      ],
      "execution_count": 4,
      "outputs": [
        {
          "output_type": "stream",
          "text": [
            "(12300, 49)\n",
            "(12300,)\n",
            "[ 0.         -0.          0.          0.          1.99192699  0.\n",
            "  0.          0.97122107  0.00485742  0.          0.98697932  0.00214937\n",
            "  0.         -0.          0.          0.          0.          0.\n",
            "  0.         -0.          0.          0.          0.          0.\n",
            " -0.          0.          0.          0.          0.          0.\n",
            "  0.          0.          0.          0.          0.          0.\n",
            "  0.          0.          0.          0.          0.          0.\n",
            " -0.          0.          0.          0.          0.          0.\n",
            " -0.        ]\n"
          ],
          "name": "stdout"
        }
      ]
    }
  ]
}