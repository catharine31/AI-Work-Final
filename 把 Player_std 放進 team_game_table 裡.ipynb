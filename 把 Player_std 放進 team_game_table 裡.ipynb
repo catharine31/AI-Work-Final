{
 "cells": [
  {
   "cell_type": "code",
   "execution_count": null,
   "metadata": {},
   "outputs": [],
   "source": [
    "import pandas as pd"
   ]
  },
  {
   "cell_type": "code",
   "execution_count": null,
   "metadata": {},
   "outputs": [],
   "source": [
    "# 讀進所有做好球員間標準差的 table\n",
    "std2013 = pd.read_csv('/Users/choushinji/Desktop/AI/player_games_train/std_player_game_adv_2013.csv')\n",
    "std2014 = pd.read_csv('/Users/choushinji/Desktop/AI/player_games_train/std_player_game_adv_2014.csv')\n",
    "std2015 = pd.read_csv('/Users/choushinji/Desktop/AI/player_games_train/std_player_game_adv_2015.csv')\n",
    "std2016 = pd.read_csv('/Users/choushinji/Desktop/AI/player_games_train/std_player_game_adv_2016.csv')\n",
    "std2017 = pd.read_csv('/Users/choushinji/Desktop/AI/player_games_train/std_player_game_adv_2017.csv')\n",
    "std2018 = pd.read_csv('/Users/choushinji/Desktop/AI/player_game_test/std_player_game_adv_2018.csv')"
   ]
  },
  {
   "cell_type": "code",
   "execution_count": null,
   "metadata": {},
   "outputs": [],
   "source": [
    "# 看看資料長相\n",
    "std2018"
   ]
  },
  {
   "cell_type": "code",
   "execution_count": null,
   "metadata": {},
   "outputs": [],
   "source": [
    "# 把 2013-2017 當作訓練資料，所以把他們合併在一起\n",
    "all_player_game_withStd = pd.concat([std2013, std2014, std2015, std2016, std2017])"
   ]
  },
  {
   "cell_type": "code",
   "execution_count": null,
   "metadata": {},
   "outputs": [],
   "source": [
    "# 因為 column 的名字會和之後要合併到 team_game table 的column 的名字重複，所以先將各欄位名字重新命名\n",
    "# 在個 column 前命加入\"std_\"\n",
    "all_player_game_withStd = all_player_game_withStd.add_prefix('std_')\n",
    "# 把 game_id 和 team_id rename 回來\n",
    "all_player_game_withStd.rename(columns={'std_GAME_ID': 'Game_ID', 'std_TEAM_ID': 'Team_ID'}, inplace=True)"
   ]
  },
  {
   "cell_type": "code",
   "execution_count": null,
   "metadata": {},
   "outputs": [],
   "source": [
    "# 先存成 csv 檔\n",
    "all_player_game_withStd.to_csv('/Users/choushinji/Desktop/AI/player_games/Player_game.csv')"
   ]
  },
  {
   "cell_type": "code",
   "execution_count": null,
   "metadata": {},
   "outputs": [],
   "source": [
    "# 讀進之前所整理好的 Team_game table\n",
    "teamGame = pd.read_csv('/Users/choushinji/Desktop/AI/Team_game_all.csv')"
   ]
  },
  {
   "cell_type": "code",
   "execution_count": null,
   "metadata": {},
   "outputs": [],
   "source": [
    "teamGame2013 = teamGame[teamGame[\"Game_ID\"].apply(lambda x: str(x).startswith('213'))]\n",
    "teamGame2014 = teamGame[teamGame[\"Game_ID\"].apply(lambda x: str(x).startswith('214'))]\n",
    "teamGame2015 = teamGame[teamGame[\"Game_ID\"].apply(lambda x: str(x).startswith('215'))]\n",
    "teamGame2016 = teamGame[teamGame[\"Game_ID\"].apply(lambda x: str(x).startswith('216'))]\n",
    "teamGame2017 = teamGame[teamGame[\"Game_ID\"].apply(lambda x: str(x).startswith('217'))]"
   ]
  },
  {
   "cell_type": "code",
   "execution_count": null,
   "metadata": {},
   "outputs": [],
   "source": [
    "# # 把 2013-2017 當作訓練資料，所以把他們合併在一起\n",
    "all_team_game = pd.concat([teamGame2013, teamGame2014, teamGame2015, teamGame2016, teamGame2017])"
   ]
  },
  {
   "cell_type": "code",
   "execution_count": null,
   "metadata": {},
   "outputs": [],
   "source": [
    "# 把剛剛整理含有球員表現標準差的 player_game table 合併到 all_team_game 裡\n",
    "all_team_game_withPlayerStd = all_team_game.merge(all_player_game_withStd, on=['Game_ID', 'Team_ID'], how='inner')\n",
    "all_team_game_withPlayerStd"
   ]
  },
  {
   "cell_type": "code",
   "execution_count": null,
   "metadata": {},
   "outputs": [],
   "source": [
    "# 存成 csv 檔，接著就用這份資料訓練模型\n",
    "all_team_game_withPlayerStd.to_csv('/Users/choushinji/Desktop/AI/Team_game_with_playerStd_train.csv')"
   ]
  },
  {
   "cell_type": "markdown",
   "metadata": {},
   "source": [
    "上述為 2013-2017 年訓練資料的整理方法\n",
    "2018 為測試資料，整理方法亦同訓練資料的整理方法"
   ]
  },
  {
   "cell_type": "code",
   "execution_count": null,
   "metadata": {},
   "outputs": [],
   "source": []
  }
 ],
 "metadata": {
  "kernelspec": {
   "display_name": "Selenium",
   "language": "python",
   "name": "myenv"
  },
  "language_info": {
   "codemirror_mode": {
    "name": "ipython",
    "version": 3
   },
   "file_extension": ".py",
   "mimetype": "text/x-python",
   "name": "python",
   "nbconvert_exporter": "python",
   "pygments_lexer": "ipython3",
   "version": "3.7.6"
  }
 },
 "nbformat": 4,
 "nbformat_minor": 2
}
